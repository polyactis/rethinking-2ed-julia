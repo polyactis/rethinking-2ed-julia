{
 "cells": [
  {
   "cell_type": "markdown",
   "id": "5ea7a0c2",
   "metadata": {},
   "source": [
    "No code in this chapter, wheee!"
   ]
  },
  {
   "cell_type": "code",
   "execution_count": null,
   "id": "d6bcbb50",
   "metadata": {},
   "outputs": [],
   "source": []
  }
 ],
 "metadata": {
  "kernelspec": {
   "display_name": "Julia 1.9.1",
   "language": "julia",
   "name": "julia-1.9"
  },
  "language_info": {
   "file_extension": ".jl",
   "mimetype": "application/julia",
   "name": "julia",
   "version": "1.9.1"
  }
 },
 "nbformat": 4,
 "nbformat_minor": 5
}
